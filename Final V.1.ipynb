{
 "cells": [
  {
   "cell_type": "code",
   "execution_count": 18,
   "id": "da679645",
   "metadata": {},
   "outputs": [
    {
     "name": "stdout",
     "output_type": "stream",
     "text": [
      "Choose a number 1 or 2 or 3 --> 5\n",
      "Choose a number 1 or 2 or 3 --> 2\n",
      "Wrong!\n",
      "['', '', '0']\n"
     ]
    }
   ],
   "source": [
    "from random import shuffle\n",
    "\n",
    "def shuffle_list(mylist):\n",
    "    shuffle(mylist)\n",
    "    return mylist\n",
    "\n",
    "def player_guess():\n",
    "\n",
    "    guess = ''\n",
    "\n",
    "    while guess not in ['1','2','3']:\n",
    "        guess = input('Choose a number 1 or 2 or 3 --> ')\n",
    "\n",
    "    return int(guess)\n",
    "\n",
    "def check_guess(mylist,guess):\n",
    "    if mylist[guess - 1] == '0':\n",
    "        print('Correct!')\n",
    "\n",
    "    else:\n",
    "        print('Wrong!')\n",
    "        print(mylist)\n",
    "\n",
    "mylist = shuffle_list(['','0',''])\n",
    "\n",
    "final_guess = player_guess()\n",
    "\n",
    "check_guess(mylist,final_guess)\n"
   ]
  },
  {
   "cell_type": "code",
   "execution_count": null,
   "id": "f420e89b",
   "metadata": {},
   "outputs": [],
   "source": []
  }
 ],
 "metadata": {
  "kernelspec": {
   "display_name": "Python 3 (ipykernel)",
   "language": "python",
   "name": "python3"
  },
  "language_info": {
   "codemirror_mode": {
    "name": "ipython",
    "version": 3
   },
   "file_extension": ".py",
   "mimetype": "text/x-python",
   "name": "python",
   "nbconvert_exporter": "python",
   "pygments_lexer": "ipython3",
   "version": "3.9.12"
  }
 },
 "nbformat": 4,
 "nbformat_minor": 5
}
