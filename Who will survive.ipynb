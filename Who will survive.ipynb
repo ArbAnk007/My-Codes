{
 "cells": [
  {
   "cell_type": "code",
   "execution_count": 1,
   "id": "1f42397d",
   "metadata": {},
   "outputs": [
    {
     "name": "stdout",
     "output_type": "stream",
     "text": [
      "[73]\n"
     ]
    }
   ],
   "source": [
    "list1 = []\n",
    "for n in range(1,101):\n",
    "    if n % 2 != 0:\n",
    "        list1.append(n)\n",
    "\n",
    "list2 = []\n",
    "for i in range(0,len(list1)):\n",
    "    if i % 2 == 0:\n",
    "        list2.append(list1[i])\n",
    "\n",
    "list3 = []\n",
    "for k in range(0,len(list2)):\n",
    "    if k % 2 == 0:\n",
    "        list3.append(list2[k])\n",
    "\n",
    "list4 = []\n",
    "for q in range(0,len(list3)):\n",
    "    if q % 2 != 0:\n",
    "        list4.append(list3[q])\n",
    "\n",
    "list5 = []\n",
    "for w in range(0,len(list4)):\n",
    "    if w % 2 == 0:\n",
    "        list5.append(list4[w])\n",
    "\n",
    "list6 = []\n",
    "for e in range(0,len(list5)):\n",
    "    if e % 2 == 0:\n",
    "        list6.append(list5[e])\n",
    "\n",
    "result = []\n",
    "for t in range(0,len(list6)):\n",
    "    if t % 2 != 0:\n",
    "        result.append(list6[t])\n",
    "        \n",
    "print(result)"
   ]
  },
  {
   "cell_type": "code",
   "execution_count": null,
   "id": "5dd1ca85",
   "metadata": {},
   "outputs": [],
   "source": []
  }
 ],
 "metadata": {
  "kernelspec": {
   "display_name": "Python 3 (ipykernel)",
   "language": "python",
   "name": "python3"
  },
  "language_info": {
   "codemirror_mode": {
    "name": "ipython",
    "version": 3
   },
   "file_extension": ".py",
   "mimetype": "text/x-python",
   "name": "python",
   "nbconvert_exporter": "python",
   "pygments_lexer": "ipython3",
   "version": "3.9.12"
  }
 },
 "nbformat": 4,
 "nbformat_minor": 5
}
