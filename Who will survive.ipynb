{
 "cells": [
  {
   "cell_type": "code",
   "execution_count": 1,
   "id": "1f42397d",
   "metadata": {},
   "outputs": [
    {
     "name": "stdout",
     "output_type": "stream",
     "text": [
      "[35]\n"
     ]
    }
   ],
   "source": [
    "list1 = []\n",
    "for n in range(1,101):\n",
    "    if n % 2 != 0:\n",
    "        list1.append(n)\n",
    "\n",
    "list2 = list1[::-1]\n",
    "\n",
    "list3 = []\n",
    "for i in range(0,len(list2)):\n",
    "    if i % 2 == 0:\n",
    "        list3.append(list2[i])\n",
    "    \n",
    "list4 = list3[::-1]\n",
    "\n",
    "list5 = []\n",
    "for k in range(0,len(list4)):\n",
    "    if k % 2 == 0:\n",
    "        list5.append(list4[k])\n",
    "        \n",
    "list6 = list5[::-1]\n",
    "\n",
    "list7 = []\n",
    "for q in range(0,len(list6)):\n",
    "    if q % 2 == 0:\n",
    "        list7.append(list6[q])\n",
    "        \n",
    "list8 = list7[::-1]\n",
    "\n",
    "list9 = []\n",
    "for w in range(0,len(list8)):\n",
    "    if w % 2 == 0:\n",
    "        list9.append(list8[w])\n",
    "        \n",
    "list10 = list9[::-1]\n",
    "\n",
    "list11 = []\n",
    "for e in range(0,len(list10)):\n",
    "    if e % 2 == 0:\n",
    "        list11.append(list10[e])\n",
    "        \n",
    "list12 = list11[::-1]\n",
    "\n",
    "result = []\n",
    "for t in range(0,len(list12)):\n",
    "    if t % 2 == 0:\n",
    "        result.append(list12[t])\n",
    "        \n",
    "print(result)"
   ]
  },
  {
   "cell_type": "code",
   "execution_count": null,
   "id": "5dd1ca85",
   "metadata": {},
   "outputs": [],
   "source": []
  }
 ],
 "metadata": {
  "kernelspec": {
   "display_name": "Python 3 (ipykernel)",
   "language": "python",
   "name": "python3"
  },
  "language_info": {
   "codemirror_mode": {
    "name": "ipython",
    "version": 3
   },
   "file_extension": ".py",
   "mimetype": "text/x-python",
   "name": "python",
   "nbconvert_exporter": "python",
   "pygments_lexer": "ipython3",
   "version": "3.9.12"
  }
 },
 "nbformat": 4,
 "nbformat_minor": 5
}
